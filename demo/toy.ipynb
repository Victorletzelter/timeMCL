{
 "cells": [
  {
   "cell_type": "markdown",
   "metadata": {},
   "source": [
    "## Example TimeMCL for toy datasets."
   ]
  },
  {
   "cell_type": "markdown",
   "metadata": {},
   "source": [
    "This notebook contains an example for training TimeMCL on synthetic datasets."
   ]
  },
  {
   "cell_type": "markdown",
   "metadata": {},
   "source": [
    "### Setup"
   ]
  },
  {
   "cell_type": "markdown",
   "metadata": {},
   "source": [
    "First create the conda virtual environment with the required packages with `conda create -n synth_env -y python=3.10.15`. Then activate it with `source activate synth_env`, and install the required packages with `cd toy ; pip install -r requirements.txt` before running the next cells.\n",
    "\n",
    "LaTeX can optionally be used for plot rendering. It can be installed with: `sudo apt-get install -y dvipng texlive-latex-extra texlive-fonts-recommended cm-super`."
   ]
  },
  {
   "cell_type": "code",
   "execution_count": null,
   "metadata": {},
   "outputs": [],
   "source": [
    "import os\n",
    "import sys\n",
    "import numpy as np\n",
    "import rootutils\n",
    "import torch \n",
    "import matplotlib.pyplot as plt\n",
    "rootutils.setup_root(search_from='.', indicator=\".project-root\", pythonpath=True)\n",
    "\n",
    "sys.path.append(os.path.dirname(os.environ[\"PROJECT_ROOT\"]))\n",
    "sys.path.append(os.path.join(os.environ[\"PROJECT_ROOT\"], \"toy\"))\n",
    "from toy import tMCL, train_tMCL, plot_brownian_bridge,plot_brownien,plot_ARp_quantization, is_usetex_available\n",
    "import torch \n"
   ]
  },
  {
   "cell_type": "markdown",
   "metadata": {},
   "source": [
    "### Training"
   ]
  },
  {
   "cell_type": "markdown",
   "metadata": {},
   "source": [
    "Training can be performed with the following commands"
   ]
  },
  {
   "cell_type": "markdown",
   "metadata": {},
   "source": [
    "Three datasets are supported, Brownian motion, ARp and Brownian bridge."
   ]
  },
  {
   "cell_type": "code",
   "execution_count": null,
   "metadata": {},
   "outputs": [],
   "source": [
    "dataset_name = \"brownian_bridge\" # \"brownian_bridge\" ,\"brownian_motion\" or \"ARp\""
   ]
  },
  {
   "cell_type": "code",
   "execution_count": null,
   "metadata": {},
   "outputs": [],
   "source": [
    "# Training and model parameters\n",
    "batch_size=  4096 # Training batch size\n",
    "device= \"cuda\" if torch.cuda.is_available() else \"cpu\" # device to use for training\n",
    "wta_mode=\"relaxed_wta\" # WTA mode to use for training\n",
    "n_hypotheses= 10 # Number of hypotheses to use for training\n",
    "num_steps= 500 # Number of training steps\n",
    "learning_rate= 0.001 # Learning rate for training\n",
    "cond_dim = 2 if dataset_name==\"brownian_bridge\" else 1 if dataset_name==\"brownian_motion\" else 5 # Input dimension of the model\n",
    "\n",
    "# Dataset parameters\n",
    "nb_discretization_points = 500 # Total number of discretization points\n",
    "p = 5 if dataset_name==\"ARp\" else None # AR(p) model order\n",
    "nb_step_simulation= 250 - p if dataset_name==\"ARp\" else 250\n",
    "sigma =  0.06 if dataset_name==\"ARp\" else None # Noise level for AR(p)\n",
    "coefficients = [0.4, 0.2, 0.2, 0.1, 0.1] if dataset_name==\"ARp\" else None # Coefficients for AR(p)\n",
    "init_values = None # Initial values for AR(p)"
   ]
  },
  {
   "cell_type": "code",
   "execution_count": null,
   "metadata": {},
   "outputs": [],
   "source": [
    "model = tMCL(\n",
    "    cond_dim=cond_dim,\n",
    "    nb_step_simulation=nb_step_simulation,\n",
    "    n_hypotheses=n_hypotheses,\n",
    "    device=device,\n",
    "    loss_type=wta_mode,\n",
    ")"
   ]
  },
  {
   "cell_type": "code",
   "execution_count": null,
   "metadata": {},
   "outputs": [],
   "source": [
    "additional_params = {\"p\": p, \"coefficients\": coefficients, \"sigma\": sigma, \"init_values\": init_values} if \"ARp\" else {}\n",
    "\n",
    "trained_model = train_tMCL(\n",
    "model=model,\n",
    "process_type=dataset_name,\n",
    "num_steps=num_steps,\n",
    "batch_size=batch_size,\n",
    "nb_discretization_points=nb_discretization_points,\n",
    "interval_length=interval_length,\n",
    "device=device,\n",
    "learning_rate=learning_rate,\n",
    "additional_params=additional_params,\n",
    ")"
   ]
  },
  {
   "cell_type": "markdown",
   "metadata": {},
   "source": [
    "### Plotting"
   ]
  },
  {
   "cell_type": "code",
   "execution_count": null,
   "metadata": {},
   "outputs": [],
   "source": [
    "# Parameters\n",
    "interval_length = nb_step_simulation # Length of the interval to simulate\n",
    "m = 2 # parameter m in the K-L decomposition of the eigenfunctions\n",
    "N_levels = [5, 2] # number of levels for the quantization of the eigenfunctions\n",
    "a = 0 # Starting point of the brownian bridge\n",
    "b = 1 # Ending point of the brownian bridge\n",
    "pred_length = nb_step_simulation # Length of the prediction\n",
    "t_condition= 100 if dataset_name==\"ARp\" else 0.5 # Time condition for the AR(p) model"
   ]
  },
  {
   "cell_type": "code",
   "execution_count": null,
   "metadata": {},
   "outputs": [],
   "source": [
    "from matplotlib import rc\n",
    "\n",
    "rc(\"text\", usetex=True if is_usetex_available() else False)\n",
    "rc(\"font\", family=\"serif\")\n",
    "\n",
    "fig, ax = plt.subplots(figsize=(10, 6))\n",
    "\n",
    "if dataset_name == \"brownian_bridge\":\n",
    "    result = plot_brownian_bridge(\n",
    "        interval_length=interval_length,\n",
    "        nb_discretization_points=nb_discretization_points,\n",
    "        m=m,\n",
    "        N_levels=N_levels,\n",
    "        a=a,\n",
    "        b=b,\n",
    "        t_condition=t_condition,\n",
    "        trained_model=trained_model,\n",
    "        ax=ax,\n",
    "    )\n",
    "    ax.set_title(\"Brownian Bridge\", fontsize=28)\n",
    "\n",
    "elif dataset_name == \"brownian_motion\":\n",
    "    result = plot_brownien(\n",
    "        T=1,\n",
    "        t_condition=t_condition,\n",
    "        pred_length=pred_length,\n",
    "        num_steps=num_steps,\n",
    "        m=m,\n",
    "        N_levels=N_levels,\n",
    "        trained_model=trained_model,\n",
    "        ax=ax,\n",
    "    )\n",
    "    ax.set_title(\"Brownian Motion\", fontsize=28)\n",
    "\n",
    "elif dataset_name == \"ARp\":\n",
    "    result = plot_ARp_quantization(\n",
    "        batch_size=batch_size,\n",
    "        nb_discretization_points=nb_discretization_points,\n",
    "        interval_length=interval_length,\n",
    "        coefficients=coefficients,\n",
    "        sigma=sigma,\n",
    "        t_condition=t_condition,\n",
    "        trained_model=trained_model,\n",
    "        ax=ax,\n",
    "    )\n",
    "    ax.set_title(f\"AR(p) – p = {len(coefficients)}\", fontsize=28)\n",
    "\n",
    "ax.tick_params(axis=\"x\", labelsize=20)\n",
    "ax.tick_params(axis=\"y\", labelsize=20)\n",
    "ax.set_xlabel(\"Time\", fontsize=25)\n",
    "ax.grid()\n",
    "\n",
    "handles, labels = ax.get_legend_handles_labels()\n",
    "plt.tight_layout()\n",
    "\n",
    "unique_handles_labels = dict(zip(labels, handles))\n",
    "\n",
    "# Get the unique handles and labels\n",
    "unique_labels = list(unique_handles_labels.keys())\n",
    "unique_handles = list(unique_handles_labels.values())\n",
    "\n",
    "# Create common legend above the figure\n",
    "fig.legend(\n",
    "    unique_handles,\n",
    "    unique_labels,\n",
    "    loc=\"upper center\",\n",
    "    bbox_to_anchor=(0.5, 1.1),\n",
    "    ncol=3,\n",
    "    fontsize=20,\n",
    ")"
   ]
  },
  {
   "cell_type": "code",
   "execution_count": null,
   "metadata": {},
   "outputs": [],
   "source": []
  }
 ],
 "metadata": {
  "kernelspec": {
   "display_name": "synth_env",
   "language": "python",
   "name": "python3"
  },
  "language_info": {
   "codemirror_mode": {
    "name": "ipython",
    "version": 3
   },
   "file_extension": ".py",
   "mimetype": "text/x-python",
   "name": "python",
   "nbconvert_exporter": "python",
   "pygments_lexer": "ipython3",
   "version": "3.10.15"
  }
 },
 "nbformat": 4,
 "nbformat_minor": 2
}
