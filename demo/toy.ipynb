{
 "cells": [
  {
   "cell_type": "markdown",
   "metadata": {},
   "source": [
    "## Example TimeMCL for toy datasets."
   ]
  },
  {
   "cell_type": "markdown",
   "metadata": {},
   "source": [
    "This notebook contains an example for training TimeMCL on synthetics dataset."
   ]
  },
  {
   "cell_type": "markdown",
   "metadata": {},
   "source": [
    "### Setup"
   ]
  },
  {
   "cell_type": "markdown",
   "metadata": {},
   "source": [
    "First create the conda virtual environment with the required packages with `cd tsExperiments ; bash setup-env.sh`. Then activate it before running the next cells."
   ]
  },
  {
   "cell_type": "markdown",
   "metadata": {},
   "source": [
    "### Training"
   ]
  },
  {
   "cell_type": "markdown",
   "metadata": {},
   "source": [
    "Training can be performed with the following commands"
   ]
  },
  {
   "cell_type": "code",
   "execution_count": 1,
   "metadata": {},
   "outputs": [],
   "source": [
    "import os\n",
    "import sys\n",
    "import numpy as np\n",
    "import rootutils\n",
    "import torch \n",
    "rootutils.setup_root(search_from='.', indicator=\".project-root\", pythonpath=True)\n",
    "\n",
    "sys.path.append(os.path.dirname(os.environ[\"PROJECT_ROOT\"]))\n",
    "sys.path.append(os.path.join(os.environ[\"PROJECT_ROOT\"], \"toy\"))\n",
    "from toy import tMCL, train_tMCL, plot_brownian_bridge,plot_brownien,plot_ARp_quantization\n",
    "import time\n",
    "import torch \n"
   ]
  },
  {
   "cell_type": "markdown",
   "metadata": {},
   "source": [
    "Three datasets are supported, Brownian motion, ARp and brownian bridge."
   ]
  },
  {
   "cell_type": "code",
   "execution_count": 2,
   "metadata": {},
   "outputs": [],
   "source": [
    "dataset_name = \"ARp\" #\"brownian_bridge\" ,\"brownian_motion\" or \"ARp\""
   ]
  },
  {
   "cell_type": "code",
   "execution_count": 3,
   "metadata": {},
   "outputs": [],
   "source": [
    "nb_discretization_points = 500\n",
    "batch_size=  4096\n",
    "nb_step_simulation= 250\n",
    "device= \"cuda\" if torch.cuda.is_available() else \"cpu\"\n",
    "t_condition= 100 if \"ARp\" else 0.5\n",
    "wta_mode= \"relaxed_wta\"\n",
    "cond_dim= 2 if \"brownian_bridge\" else 1 if \"brownian_motion\" else 5 \n",
    "n_hypotheses= 10\n",
    "num_steps= 10 #500\n",
    "learning_rate= 0.001\n",
    "sigma =  0.06 if \"ARp\" else None\n",
    "p = 5 if \"ARp\" else None\n",
    "coefficients = [0.4, 0.2, 0.2, 0.1, 0.1] if \"ARp\" else None\n",
    "init_values = [0.2,0.2,0.2,0.2,0.2] if \"ARp\" else None\n",
    "\n",
    "nb_step_simulation_model = nb_step_simulation\n",
    "interval_length = nb_step_simulation"
   ]
  },
  {
   "cell_type": "code",
   "execution_count": 4,
   "metadata": {},
   "outputs": [],
   "source": [
    "model = tMCL(\n",
    "    cond_dim=cond_dim,\n",
    "    nb_step_simulation=nb_step_simulation_model,\n",
    "    n_hypotheses=n_hypotheses,\n",
    "    device=device,\n",
    "    loss_type=wta_mode,\n",
    ")"
   ]
  },
  {
   "cell_type": "code",
   "execution_count": null,
   "metadata": {},
   "outputs": [
    {
     "ename": "KeyError",
     "evalue": "'init_values'",
     "output_type": "error",
     "traceback": [
      "\u001b[0;31m---------------------------------------------------------------------------\u001b[0m",
      "\u001b[0;31mKeyError\u001b[0m                                  Traceback (most recent call last)",
      "Cell \u001b[0;32mIn[5], line 5\u001b[0m\n\u001b[1;32m      1\u001b[0m additional_params \u001b[38;5;241m=\u001b[39m {\u001b[38;5;124m\"\u001b[39m\u001b[38;5;124mp\u001b[39m\u001b[38;5;124m\"\u001b[39m: p, \u001b[38;5;124m\"\u001b[39m\u001b[38;5;124mcoefficients\u001b[39m\u001b[38;5;124m\"\u001b[39m: coefficients, \u001b[38;5;124m\"\u001b[39m\u001b[38;5;124msigma\u001b[39m\u001b[38;5;124m\"\u001b[39m: sigma} \u001b[38;5;28;01mif\u001b[39;00m \u001b[38;5;124m\"\u001b[39m\u001b[38;5;124mARp\u001b[39m\u001b[38;5;124m\"\u001b[39m \u001b[38;5;28;01melse\u001b[39;00m {}\n\u001b[1;32m      3\u001b[0m start_time \u001b[38;5;241m=\u001b[39m time\u001b[38;5;241m.\u001b[39mtime()\n\u001b[0;32m----> 5\u001b[0m trained_model \u001b[38;5;241m=\u001b[39m \u001b[43mtrain_tMCL\u001b[49m\u001b[43m(\u001b[49m\n\u001b[1;32m      6\u001b[0m \u001b[43mmodel\u001b[49m\u001b[38;5;241;43m=\u001b[39;49m\u001b[43mmodel\u001b[49m\u001b[43m,\u001b[49m\n\u001b[1;32m      7\u001b[0m \u001b[43mprocess_type\u001b[49m\u001b[38;5;241;43m=\u001b[39;49m\u001b[43mdataset_name\u001b[49m\u001b[43m,\u001b[49m\n\u001b[1;32m      8\u001b[0m \u001b[43mnum_steps\u001b[49m\u001b[38;5;241;43m=\u001b[39;49m\u001b[43mnum_steps\u001b[49m\u001b[43m,\u001b[49m\n\u001b[1;32m      9\u001b[0m \u001b[43mbatch_size\u001b[49m\u001b[38;5;241;43m=\u001b[39;49m\u001b[43mbatch_size\u001b[49m\u001b[43m,\u001b[49m\n\u001b[1;32m     10\u001b[0m \u001b[43mnb_discretization_points\u001b[49m\u001b[38;5;241;43m=\u001b[39;49m\u001b[43mnb_discretization_points\u001b[49m\u001b[43m,\u001b[49m\n\u001b[1;32m     11\u001b[0m \u001b[43minterval_length\u001b[49m\u001b[38;5;241;43m=\u001b[39;49m\u001b[43minterval_length\u001b[49m\u001b[43m,\u001b[49m\n\u001b[1;32m     12\u001b[0m \u001b[43mdevice\u001b[49m\u001b[38;5;241;43m=\u001b[39;49m\u001b[43mdevice\u001b[49m\u001b[43m,\u001b[49m\n\u001b[1;32m     13\u001b[0m \u001b[43mlearning_rate\u001b[49m\u001b[38;5;241;43m=\u001b[39;49m\u001b[43mlearning_rate\u001b[49m\u001b[43m,\u001b[49m\n\u001b[1;32m     14\u001b[0m \u001b[43madditional_params\u001b[49m\u001b[38;5;241;43m=\u001b[39;49m\u001b[43madditional_params\u001b[49m\u001b[43m,\u001b[49m\n\u001b[1;32m     15\u001b[0m \u001b[43m)\u001b[49m\n\u001b[1;32m     17\u001b[0m end_time \u001b[38;5;241m=\u001b[39m time\u001b[38;5;241m.\u001b[39mtime()\n",
      "File \u001b[0;32m~/Documents/timeMCL/timeMCL/toy/toy.py:313\u001b[0m, in \u001b[0;36mtrain_tMCL\u001b[0;34m(model, process_type, num_steps, batch_size, nb_discretization_points, interval_length, device, learning_rate, additional_params)\u001b[0m\n\u001b[1;32m    311\u001b[0m coefficients \u001b[38;5;241m=\u001b[39m additional_params[\u001b[38;5;124m\"\u001b[39m\u001b[38;5;124mcoefficients\u001b[39m\u001b[38;5;124m\"\u001b[39m]\n\u001b[1;32m    312\u001b[0m sigma \u001b[38;5;241m=\u001b[39m additional_params[\u001b[38;5;124m\"\u001b[39m\u001b[38;5;124msigma\u001b[39m\u001b[38;5;124m\"\u001b[39m]\n\u001b[0;32m--> 313\u001b[0m init_values \u001b[38;5;241m=\u001b[39m \u001b[43madditional_params\u001b[49m\u001b[43m[\u001b[49m\u001b[38;5;124;43m\"\u001b[39;49m\u001b[38;5;124;43minit_values\u001b[39;49m\u001b[38;5;124;43m\"\u001b[39;49m\u001b[43m]\u001b[49m\n\u001b[1;32m    315\u001b[0m \u001b[38;5;28;01massert\u001b[39;00m p \u001b[38;5;241m==\u001b[39m \u001b[38;5;28mlen\u001b[39m(coefficients)\n\u001b[1;32m    317\u001b[0m trajectories, start_indices \u001b[38;5;241m=\u001b[39m StochasticProcessSampler(\n\u001b[1;32m    318\u001b[0m     process_type,\n\u001b[1;32m    319\u001b[0m     batch_size,\n\u001b[0;32m   (...)\u001b[0m\n\u001b[1;32m    326\u001b[0m     },\n\u001b[1;32m    327\u001b[0m )\u001b[38;5;241m.\u001b[39mgenerate_samples()\n",
      "\u001b[0;31mKeyError\u001b[0m: 'init_values'"
     ]
    }
   ],
   "source": [
    "additional_params = {\"p\": p, \"coefficients\": coefficients, \"sigma\": sigma, \"init_values\": init_values} if \"ARp\" else {}\n",
    "\n",
    "start_time = time.time()\n",
    "\n",
    "trained_model = train_tMCL(\n",
    "model=model,\n",
    "process_type=dataset_name,\n",
    "num_steps=num_steps,\n",
    "batch_size=batch_size,\n",
    "nb_discretization_points=nb_discretization_points,\n",
    "interval_length=interval_length,\n",
    "device=device,\n",
    "learning_rate=learning_rate,\n",
    "additional_params=additional_params,\n",
    ")\n",
    "\n",
    "end_time = time.time()"
   ]
  },
  {
   "cell_type": "markdown",
   "metadata": {},
   "source": [
    "### Plotting ARp"
   ]
  },
  {
   "cell_type": "code",
   "execution_count": null,
   "metadata": {},
   "outputs": [],
   "source": [
    "time_observed,y_observed,time_future,kmeans_centroids,predictions_neural = plot_ARp_quantization(\n",
    "    batch_size,\n",
    "    nb_discretization_points,\n",
    "    interval_length,\n",
    "    coefficients,\n",
    "    sigma,\n",
    "    t_condition,\n",
    "    trained_model,\n",
    "    nb_clusters=10,\n",
    "    ax=None,\n",
    ")"
   ]
  },
  {
   "cell_type": "markdown",
   "metadata": {},
   "source": [
    "### Plotting Brownian Bridge "
   ]
  },
  {
   "cell_type": "code",
   "execution_count": 6,
   "metadata": {},
   "outputs": [],
   "source": [
    "batch_size = 1000\n",
    "interval_length = nb_step_simulation_model\n",
    "m = 2 # parameter m in the K-L decomposition of the eigenfunctions\n",
    "N_levels = [5, 2] # number of levels for the quantization of the eigenfunctions\n",
    "a = 0\n",
    "b = 1\n",
    "pred_length = nb_step_simulation_model\n",
    "num_steps = 300\n"
   ]
  },
  {
   "cell_type": "code",
   "execution_count": 7,
   "metadata": {},
   "outputs": [
    {
     "data": {
      "image/png": "[encoded data removed]",
      "text/plain": [
       "<Figure size 640x480 with 1 Axes>"
      ]
     },
     "metadata": {},
     "output_type": "display_data"
    }
   ],
   "source": [
    "t_observed,bridge_0_t,t_quantized,trajectories_quantized,predictions_neural =plot_brownian_bridge( interval_length,\n",
    "    nb_discretization_points,\n",
    "    m,\n",
    "    N_levels,\n",
    "    a,\n",
    "    b,\n",
    "    t_condition,\n",
    "    trained_model,\n",
    "    ax=None,)"
   ]
  }
 ],
 "metadata": {
  "kernelspec": {
   "display_name": "time_series",
   "language": "python",
   "name": "python3"
  },
  "language_info": {
   "codemirror_mode": {
    "name": "ipython",
    "version": 3
   },
   "file_extension": ".py",
   "mimetype": "text/x-python",
   "name": "python",
   "nbconvert_exporter": "python",
   "pygments_lexer": "ipython3",
   "version": "3.11.8"
  }
 },
 "nbformat": 4,
 "nbformat_minor": 2
}
